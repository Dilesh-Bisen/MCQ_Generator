{
 "cells": [
  {
   "cell_type": "code",
   "execution_count": 1,
   "metadata": {},
   "outputs": [],
   "source": [
    "import os \n",
    "import json\n",
    "import pandas as pd \n",
    "import traceback"
   ]
  },
  {
   "cell_type": "code",
   "execution_count": 2,
   "metadata": {},
   "outputs": [
    {
     "data": {
      "text/plain": [
       "True"
      ]
     },
     "execution_count": 2,
     "metadata": {},
     "output_type": "execute_result"
    }
   ],
   "source": [
    "from dotenv import load_dotenv\n",
    "load_dotenv()"
   ]
  },
  {
   "cell_type": "code",
   "execution_count": 3,
   "metadata": {},
   "outputs": [],
   "source": [
    "# my_key = os.getenv(\"GEMINI_API_KEY\")\n",
    "\n",
    "# from langchain_google_genai import ChatGoogleGenerativeAI\n",
    "\n",
    "# llm = ChatGoogleGenerativeAI(\n",
    "#     model=\"gemini-1.5-pro\",\n",
    "#     api_key = my_key,\n",
    "#     temperature=0.5\n",
    "# )"
   ]
  },
  {
   "cell_type": "code",
   "execution_count": 4,
   "metadata": {},
   "outputs": [],
   "source": [
    "my_key = os.getenv(\"MISTRAL_API_KEY\")"
   ]
  },
  {
   "cell_type": "code",
   "execution_count": 5,
   "metadata": {},
   "outputs": [],
   "source": [
    "from langchain_mistralai import ChatMistralAI\n",
    "\n",
    "llm = ChatMistralAI(\n",
    "    api_key = my_key,\n",
    "    model=\"mistral-large-latest\",\n",
    "    temperature=0,\n",
    "    max_retries=2,\n",
    ")"
   ]
  },
  {
   "cell_type": "code",
   "execution_count": 6,
   "metadata": {},
   "outputs": [],
   "source": [
    "from langchain.prompts import PromptTemplate\n",
    "from langchain.schema.runnable import RunnableSequence\n",
    "from langchain.chains import LLMChain\n",
    "from langchain.chains import SequentialChain\n",
    "from langchain.callbacks import get_openai_callback\n",
    "\n",
    "import PyPDF2\n"
   ]
  },
  {
   "cell_type": "code",
   "execution_count": 7,
   "metadata": {},
   "outputs": [],
   "source": [
    "RESPONSE_JSON = {\n",
    "    \"quizzes\": [\n",
    "        {\n",
    "            \"question_number\": 1,\n",
    "            \"question\": \"First generated question here based on {text} and {subject}\",\n",
    "            \"options\": [\n",
    "                \"A) Option A\",\n",
    "                \"B) Option B\",\n",
    "                \"C) Option C\",\n",
    "                \"D) Option D\"\n",
    "            ],\n",
    "            \"correct_answer\": \"B) Option B\",\n",
    "            \"difficulty\": \"Medium\",\n",
    "            \"explanation\": \"Explanation for the correct answer.\"\n",
    "        },\n",
    "        {\n",
    "            \"question_number\": 2,\n",
    "            \"question\": \"Second generated question here based on {text} and {subject}\",\n",
    "            \"options\": [\n",
    "                \"A) Option A\",\n",
    "                \"B) Option B\",\n",
    "                \"C) Option C\",\n",
    "                \"D) Option D\"\n",
    "            ],\n",
    "            \"correct_answer\": \"C) Option C\",\n",
    "            \"difficulty\": \"Hard\",\n",
    "            \"explanation\": \"Explanation for the correct answer.\"\n",
    "        }\n",
    "    ]\n",
    "}\n"
   ]
  },
  {
   "cell_type": "code",
   "execution_count": 8,
   "metadata": {},
   "outputs": [],
   "source": [
    "TEMPLATE1 = \"\"\"\n",
    "You are tasked with creating {number} multiple-choice questions for an educational quiz. \n",
    "The topic of each question should be based on {text}. \n",
    "The subject is {subject}, and the tone of the questions should be {tone}. \n",
    "Ensure that each question effectively tests the user's knowledge, is clear, concise, and does not repeat the answer or options. \n",
    "For each question, provide {number} options, only one of which is correct. \n",
    "Return all questions and options in the following \n",
    "### RESPONSE_JSON \n",
    "{response_json}\n",
    "\"\"\""
   ]
  },
  {
   "cell_type": "code",
   "execution_count": 9,
   "metadata": {},
   "outputs": [],
   "source": [
    "prompt1 = PromptTemplate(\n",
    "    input_variables=['text', 'number', 'subject', 'tone', 'response_json'],\n",
    "    template=TEMPLATE1\n",
    ")"
   ]
  },
  {
   "cell_type": "code",
   "execution_count": 10,
   "metadata": {},
   "outputs": [
    {
     "name": "stderr",
     "output_type": "stream",
     "text": [
      "C:\\Users\\1dile\\AppData\\Local\\Temp\\ipykernel_4724\\3724210371.py:1: LangChainDeprecationWarning: The class `LLMChain` was deprecated in LangChain 0.1.17 and will be removed in 1.0. Use :meth:`~RunnableSequence, e.g., `prompt | llm`` instead.\n",
      "  chain1 = LLMChain(prompt=prompt1, llm=llm, output_key=\"quiz\",verbose=True)\n"
     ]
    }
   ],
   "source": [
    "chain1 = LLMChain(prompt=prompt1, llm=llm, output_key=\"quiz\",verbose=True)"
   ]
  },
  {
   "cell_type": "code",
   "execution_count": 11,
   "metadata": {},
   "outputs": [],
   "source": [
    "TEMPLATE2 = \"\"\"\n",
    "You are tasked with evaluating the quiz based on the subject: {subject}. \n",
    "Please review the quiz questions and options provided in the {quiz}. \n",
    "Ensure that the questions effectively assess the knowledge of the respondents, are clear and concise, and that the options are distinct from each other. \n",
    "Provide feedback on the clarity of the questions and the appropriateness of the options given. \n",
    "Make suggestions for any improvements needed for better evaluation.\n",
    "\"\"\""
   ]
  },
  {
   "cell_type": "code",
   "execution_count": 12,
   "metadata": {},
   "outputs": [],
   "source": [
    "prompt2 = PromptTemplate(\n",
    "    input_variables=['subject', 'quiz'],\n",
    "    template=TEMPLATE2\n",
    ")"
   ]
  },
  {
   "cell_type": "code",
   "execution_count": 13,
   "metadata": {},
   "outputs": [],
   "source": [
    "chain2 = LLMChain(prompt=prompt2, llm=llm, output_key=\"review\",verbose=True)"
   ]
  },
  {
   "cell_type": "code",
   "execution_count": 14,
   "metadata": {},
   "outputs": [],
   "source": [
    "combine_chain = SequentialChain(\n",
    "    chains = [chain1, chain2],\n",
    "    input_variables=['text', 'number', 'subject', 'tone', 'response_json'],\n",
    "    output_variables=[\"quiz\",\"review\"],\n",
    "    verbose=True\n",
    ")"
   ]
  },
  {
   "cell_type": "code",
   "execution_count": 15,
   "metadata": {},
   "outputs": [],
   "source": [
    "file_path = r\"D:\\HP_Laptop\\Project\\04_GenAI\\MCQ_Generator\\data.txt\""
   ]
  },
  {
   "cell_type": "code",
   "execution_count": 16,
   "metadata": {},
   "outputs": [
    {
     "name": "stdout",
     "output_type": "stream",
     "text": [
      "Generative artificial intelligence (generative AI, GenAI,[1] or GAI) is a subset of artificial intelligence that uses generative models to produce text, images, videos, or other forms of data.[2] These models often generate output in response to specific prompts.[3][4] Generative AI systems learn the underlying patterns and structures of their training data, enabling them to create new data.[5][6]\n",
      "\n",
      "Improvements in transformer-based deep neural networks, particularly large language models (LLMs), enabled an AI boom of generative AI systems in the early 2020s. These include chatbots such as ChatGPT, Copilot, Gemini and LLaMA, text-to-image artificial intelligence image generation systems such as Stable Diffusion, Midjourney and DALL-E, and text-to-video AI generators such as Sora.[7][8][9][10] Companies such as OpenAI, Anthropic, Microsoft, Google, and Baidu as well as numerous smaller firms have developed generative AI models.[3][11][12]\n",
      "\n",
      "Generative AI has uses across a wide range of industries, including software development, healthcare, finance, entertainment, customer service,[13] sales and marketing,[14] art, writing,[15] fashion,[16] and product design.[17] However, concerns have been raised about the potential misuse of generative AI such as cybercrime, the use of fake news or deepfakes to deceive or manipulate people, and the mass replacement of human jobs.[18][19] Intellectual property law concerns also exist, around generative models that are trained on and emulate copyrighted works of art.[20]\n"
     ]
    }
   ],
   "source": [
    "with open(file_path,'r') as file:\n",
    "    TEXT = file.read()\n",
    "\n",
    "print(TEXT)"
   ]
  },
  {
   "cell_type": "code",
   "execution_count": 17,
   "metadata": {},
   "outputs": [],
   "source": [
    "NUMBER = 5\n",
    "SUBJECT = \"Generative AI\"\n",
    "TONE = \"Simple\""
   ]
  },
  {
   "cell_type": "code",
   "execution_count": 18,
   "metadata": {},
   "outputs": [],
   "source": [
    "RES_JSON = json.dumps(RESPONSE_JSON)"
   ]
  },
  {
   "cell_type": "code",
   "execution_count": 19,
   "metadata": {},
   "outputs": [
    {
     "name": "stdout",
     "output_type": "stream",
     "text": [
      "\n",
      "\n",
      "\u001b[1m> Entering new SequentialChain chain...\u001b[0m\n",
      "\n",
      "\n",
      "\u001b[1m> Entering new LLMChain chain...\u001b[0m\n",
      "Prompt after formatting:\n",
      "\u001b[32;1m\u001b[1;3m\n",
      "You are tasked with creating 5 multiple-choice questions for an educational quiz. \n",
      "The topic of each question should be based on Generative artificial intelligence (generative AI, GenAI,[1] or GAI) is a subset of artificial intelligence that uses generative models to produce text, images, videos, or other forms of data.[2] These models often generate output in response to specific prompts.[3][4] Generative AI systems learn the underlying patterns and structures of their training data, enabling them to create new data.[5][6]\n",
      "\n",
      "Improvements in transformer-based deep neural networks, particularly large language models (LLMs), enabled an AI boom of generative AI systems in the early 2020s. These include chatbots such as ChatGPT, Copilot, Gemini and LLaMA, text-to-image artificial intelligence image generation systems such as Stable Diffusion, Midjourney and DALL-E, and text-to-video AI generators such as Sora.[7][8][9][10] Companies such as OpenAI, Anthropic, Microsoft, Google, and Baidu as well as numerous smaller firms have developed generative AI models.[3][11][12]\n",
      "\n",
      "Generative AI has uses across a wide range of industries, including software development, healthcare, finance, entertainment, customer service,[13] sales and marketing,[14] art, writing,[15] fashion,[16] and product design.[17] However, concerns have been raised about the potential misuse of generative AI such as cybercrime, the use of fake news or deepfakes to deceive or manipulate people, and the mass replacement of human jobs.[18][19] Intellectual property law concerns also exist, around generative models that are trained on and emulate copyrighted works of art.[20]. \n",
      "The subject is Generative AI, and the tone of the questions should be Simple. \n",
      "Ensure that each question effectively tests the user's knowledge, is clear, concise, and does not repeat the answer or options. \n",
      "For each question, provide 5 options, only one of which is correct. \n",
      "Return all questions and options in the following \n",
      "### RESPONSE_JSON \n",
      "{\"quizzes\": [{\"question_number\": 1, \"question\": \"First generated question here based on {text} and {subject}\", \"options\": [\"A) Option A\", \"B) Option B\", \"C) Option C\", \"D) Option D\"], \"correct_answer\": \"B) Option B\", \"difficulty\": \"Medium\", \"explanation\": \"Explanation for the correct answer.\"}, {\"question_number\": 2, \"question\": \"Second generated question here based on {text} and {subject}\", \"options\": [\"A) Option A\", \"B) Option B\", \"C) Option C\", \"D) Option D\"], \"correct_answer\": \"C) Option C\", \"difficulty\": \"Hard\", \"explanation\": \"Explanation for the correct answer.\"}]}\n",
      "\u001b[0m\n",
      "\n",
      "\u001b[1m> Finished chain.\u001b[0m\n",
      "\n",
      "\n",
      "\u001b[1m> Entering new LLMChain chain...\u001b[0m\n",
      "Prompt after formatting:\n",
      "\u001b[32;1m\u001b[1;3m\n",
      "You are tasked with evaluating the quiz based on the subject: Generative AI. \n",
      "Please review the quiz questions and options provided in the ```json\n",
      "{\n",
      "  \"quizzes\": [\n",
      "    {\n",
      "      \"question_number\": 1,\n",
      "      \"question\": \"What is Generative AI primarily used for?\",\n",
      "      \"options\": [\n",
      "        \"A) Analyzing existing data\",\n",
      "        \"B) Creating new data\",\n",
      "        \"C) Storing data\",\n",
      "        \"D) Deleting data\",\n",
      "        \"E) Sorting data\"\n",
      "      ],\n",
      "      \"correct_answer\": \"B) Creating new data\",\n",
      "      \"difficulty\": \"Easy\",\n",
      "      \"explanation\": \"Generative AI is primarily used for creating new data such as text, images, videos, or other forms of data.\"\n",
      "    },\n",
      "    {\n",
      "      \"question_number\": 2,\n",
      "      \"question\": \"Which of the following is an example of a generative AI model?\",\n",
      "      \"options\": [\n",
      "        \"A) Excel\",\n",
      "        \"B) ChatGPT\",\n",
      "        \"C) Google Maps\",\n",
      "        \"D) Microsoft Word\",\n",
      "        \"E) Adobe Photoshop\"\n",
      "      ],\n",
      "      \"correct_answer\": \"B) ChatGPT\",\n",
      "      \"difficulty\": \"Easy\",\n",
      "      \"explanation\": \"ChatGPT is an example of a generative AI model that can produce text in response to specific prompts.\"\n",
      "    },\n",
      "    {\n",
      "      \"question_number\": 3,\n",
      "      \"question\": \"What type of neural network is commonly used in generative AI systems?\",\n",
      "      \"options\": [\n",
      "        \"A) Convolutional Neural Networks (CNNs)\",\n",
      "        \"B) Recurrent Neural Networks (RNNs)\",\n",
      "        \"C) Transformer-based Neural Networks\",\n",
      "        \"D) Feedforward Neural Networks\",\n",
      "        \"E) Radial Basis Function Networks\"\n",
      "      ],\n",
      "      \"correct_answer\": \"C) Transformer-based Neural Networks\",\n",
      "      \"difficulty\": \"Medium\",\n",
      "      \"explanation\": \"Transformer-based deep neural networks, particularly large language models (LLMs), have enabled significant advancements in generative AI systems.\"\n",
      "    },\n",
      "    {\n",
      "      \"question_number\": 4,\n",
      "      \"question\": \"Which industry has raised concerns about the potential misuse of generative AI?\",\n",
      "      \"options\": [\n",
      "        \"A) Agriculture\",\n",
      "        \"B) Manufacturing\",\n",
      "        \"C) Cybersecurity\",\n",
      "        \"D) Retail\",\n",
      "        \"E) Hospitality\"\n",
      "      ],\n",
      "      \"correct_answer\": \"C) Cybersecurity\",\n",
      "      \"difficulty\": \"Medium\",\n",
      "      \"explanation\": \"Concerns have been raised about the potential misuse of generative AI in cybercrime, such as the use of fake news or deepfakes to deceive or manipulate people.\"\n",
      "    },\n",
      "    {\n",
      "      \"question_number\": 5,\n",
      "      \"question\": \"Which company has developed generative AI models like DALL-E?\",\n",
      "      \"options\": [\n",
      "        \"A) Apple\",\n",
      "        \"B) Amazon\",\n",
      "        \"C) OpenAI\",\n",
      "        \"D) IBM\",\n",
      "        \"E) Tesla\"\n",
      "      ],\n",
      "      \"correct_answer\": \"C) OpenAI\",\n",
      "      \"difficulty\": \"Easy\",\n",
      "      \"explanation\": \"OpenAI has developed generative AI models such as DALL-E, which is a text-to-image artificial intelligence image generation system.\"\n",
      "    }\n",
      "  ]\n",
      "}\n",
      "```. \n",
      "Ensure that the questions effectively assess the knowledge of the respondents, are clear and concise, and that the options are distinct from each other. \n",
      "Provide feedback on the clarity of the questions and the appropriateness of the options given. \n",
      "Make suggestions for any improvements needed for better evaluation.\n",
      "\u001b[0m\n",
      "\n",
      "\u001b[1m> Finished chain.\u001b[0m\n",
      "\n",
      "\u001b[1m> Finished chain.\u001b[0m\n"
     ]
    }
   ],
   "source": [
    "with get_openai_callback() as cb:\n",
    "    response = combine_chain.invoke({\n",
    "        'text':TEXT, \n",
    "        'number':NUMBER,\n",
    "        'subject': SUBJECT,\n",
    "        'tone':TONE,\n",
    "        'response_json': RES_JSON\n",
    "    })"
   ]
  },
  {
   "cell_type": "code",
   "execution_count": 20,
   "metadata": {},
   "outputs": [
    {
     "data": {
      "text/plain": [
       "{'text': 'Generative artificial intelligence (generative AI, GenAI,[1] or GAI) is a subset of artificial intelligence that uses generative models to produce text, images, videos, or other forms of data.[2] These models often generate output in response to specific prompts.[3][4] Generative AI systems learn the underlying patterns and structures of their training data, enabling them to create new data.[5][6]\\n\\nImprovements in transformer-based deep neural networks, particularly large language models (LLMs), enabled an AI boom of generative AI systems in the early 2020s. These include chatbots such as ChatGPT, Copilot, Gemini and LLaMA, text-to-image artificial intelligence image generation systems such as Stable Diffusion, Midjourney and DALL-E, and text-to-video AI generators such as Sora.[7][8][9][10] Companies such as OpenAI, Anthropic, Microsoft, Google, and Baidu as well as numerous smaller firms have developed generative AI models.[3][11][12]\\n\\nGenerative AI has uses across a wide range of industries, including software development, healthcare, finance, entertainment, customer service,[13] sales and marketing,[14] art, writing,[15] fashion,[16] and product design.[17] However, concerns have been raised about the potential misuse of generative AI such as cybercrime, the use of fake news or deepfakes to deceive or manipulate people, and the mass replacement of human jobs.[18][19] Intellectual property law concerns also exist, around generative models that are trained on and emulate copyrighted works of art.[20]',\n",
       " 'number': 5,\n",
       " 'subject': 'Generative AI',\n",
       " 'tone': 'Simple',\n",
       " 'response_json': '{\"quizzes\": [{\"question_number\": 1, \"question\": \"First generated question here based on {text} and {subject}\", \"options\": [\"A) Option A\", \"B) Option B\", \"C) Option C\", \"D) Option D\"], \"correct_answer\": \"B) Option B\", \"difficulty\": \"Medium\", \"explanation\": \"Explanation for the correct answer.\"}, {\"question_number\": 2, \"question\": \"Second generated question here based on {text} and {subject}\", \"options\": [\"A) Option A\", \"B) Option B\", \"C) Option C\", \"D) Option D\"], \"correct_answer\": \"C) Option C\", \"difficulty\": \"Hard\", \"explanation\": \"Explanation for the correct answer.\"}]}',\n",
       " 'quiz': '```json\\n{\\n  \"quizzes\": [\\n    {\\n      \"question_number\": 1,\\n      \"question\": \"What is Generative AI primarily used for?\",\\n      \"options\": [\\n        \"A) Analyzing existing data\",\\n        \"B) Creating new data\",\\n        \"C) Storing data\",\\n        \"D) Deleting data\",\\n        \"E) Sorting data\"\\n      ],\\n      \"correct_answer\": \"B) Creating new data\",\\n      \"difficulty\": \"Easy\",\\n      \"explanation\": \"Generative AI is primarily used for creating new data such as text, images, videos, or other forms of data.\"\\n    },\\n    {\\n      \"question_number\": 2,\\n      \"question\": \"Which of the following is an example of a generative AI model?\",\\n      \"options\": [\\n        \"A) Excel\",\\n        \"B) ChatGPT\",\\n        \"C) Google Maps\",\\n        \"D) Microsoft Word\",\\n        \"E) Adobe Photoshop\"\\n      ],\\n      \"correct_answer\": \"B) ChatGPT\",\\n      \"difficulty\": \"Easy\",\\n      \"explanation\": \"ChatGPT is an example of a generative AI model that can produce text in response to specific prompts.\"\\n    },\\n    {\\n      \"question_number\": 3,\\n      \"question\": \"What type of neural network is commonly used in generative AI systems?\",\\n      \"options\": [\\n        \"A) Convolutional Neural Networks (CNNs)\",\\n        \"B) Recurrent Neural Networks (RNNs)\",\\n        \"C) Transformer-based Neural Networks\",\\n        \"D) Feedforward Neural Networks\",\\n        \"E) Radial Basis Function Networks\"\\n      ],\\n      \"correct_answer\": \"C) Transformer-based Neural Networks\",\\n      \"difficulty\": \"Medium\",\\n      \"explanation\": \"Transformer-based deep neural networks, particularly large language models (LLMs), have enabled significant advancements in generative AI systems.\"\\n    },\\n    {\\n      \"question_number\": 4,\\n      \"question\": \"Which industry has raised concerns about the potential misuse of generative AI?\",\\n      \"options\": [\\n        \"A) Agriculture\",\\n        \"B) Manufacturing\",\\n        \"C) Cybersecurity\",\\n        \"D) Retail\",\\n        \"E) Hospitality\"\\n      ],\\n      \"correct_answer\": \"C) Cybersecurity\",\\n      \"difficulty\": \"Medium\",\\n      \"explanation\": \"Concerns have been raised about the potential misuse of generative AI in cybercrime, such as the use of fake news or deepfakes to deceive or manipulate people.\"\\n    },\\n    {\\n      \"question_number\": 5,\\n      \"question\": \"Which company has developed generative AI models like DALL-E?\",\\n      \"options\": [\\n        \"A) Apple\",\\n        \"B) Amazon\",\\n        \"C) OpenAI\",\\n        \"D) IBM\",\\n        \"E) Tesla\"\\n      ],\\n      \"correct_answer\": \"C) OpenAI\",\\n      \"difficulty\": \"Easy\",\\n      \"explanation\": \"OpenAI has developed generative AI models such as DALL-E, which is a text-to-image artificial intelligence image generation system.\"\\n    }\\n  ]\\n}\\n```',\n",
       " 'review': 'The quiz questions provided are generally well-structured and effectively assess the knowledge of respondents on the subject of Generative AI. Here is a detailed review of each question along with feedback and suggestions for improvement:\\n\\n### Question 1\\n**Question:** What is Generative AI primarily used for?\\n**Options:**\\n- A) Analyzing existing data\\n- B) Creating new data\\n- C) Storing data\\n- D) Deleting data\\n- E) Sorting data\\n**Correct Answer:** B) Creating new data\\n**Difficulty:** Easy\\n**Explanation:** Generative AI is primarily used for creating new data such as text, images, videos, or other forms of data.\\n\\n**Feedback:**\\n- The question is clear and concise.\\n- The options are distinct and cover a range of data-related activities.\\n- No improvements needed.\\n\\n### Question 2\\n**Question:** Which of the following is an example of a generative AI model?\\n**Options:**\\n- A) Excel\\n- B) ChatGPT\\n- C) Google Maps\\n- D) Microsoft Word\\n- E) Adobe Photoshop\\n**Correct Answer:** B) ChatGPT\\n**Difficulty:** Easy\\n**Explanation:** ChatGPT is an example of a generative AI model that can produce text in response to specific prompts.\\n\\n**Feedback:**\\n- The question is clear and concise.\\n- The options are distinct and include a mix of software tools, making it clear which one is the generative AI model.\\n- No improvements needed.\\n\\n### Question 3\\n**Question:** What type of neural network is commonly used in generative AI systems?\\n**Options:**\\n- A) Convolutional Neural Networks (CNNs)\\n- B) Recurrent Neural Networks (RNNs)\\n- C) Transformer-based Neural Networks\\n- D) Feedforward Neural Networks\\n- E) Radial Basis Function Networks\\n**Correct Answer:** C) Transformer-based Neural Networks\\n**Difficulty:** Medium\\n**Explanation:** Transformer-based deep neural networks, particularly large language models (LLMs), have enabled significant advancements in generative AI systems.\\n\\n**Feedback:**\\n- The question is clear and concise.\\n- The options are distinct and cover a range of neural network types.\\n- No improvements needed.\\n\\n### Question 4\\n**Question:** Which industry has raised concerns about the potential misuse of generative AI?\\n**Options:**\\n- A) Agriculture\\n- B) Manufacturing\\n- C) Cybersecurity\\n- D) Retail\\n- E) Hospitality\\n**Correct Answer:** C) Cybersecurity\\n**Difficulty:** Medium\\n**Explanation:** Concerns have been raised about the potential misuse of generative AI in cybercrime, such as the use of fake news or deepfakes to deceive or manipulate people.\\n\\n**Feedback:**\\n- The question is clear and concise.\\n- The options are distinct and cover a range of industries.\\n- No improvements needed.\\n\\n### Question 5\\n**Question:** Which company has developed generative AI models like DALL-E?\\n**Options:**\\n- A) Apple\\n- B) Amazon\\n- C) OpenAI\\n- D) IBM\\n- E) Tesla\\n**Correct Answer:** C) OpenAI\\n**Difficulty:** Easy\\n**Explanation:** OpenAI has developed generative AI models such as DALL-E, which is a text-to-image artificial intelligence image generation system.\\n\\n**Feedback:**\\n- The question is clear and concise.\\n- The options are distinct and include well-known companies, making it clear which one is associated with generative AI models.\\n- No improvements needed.\\n\\n### Overall Feedback and Suggestions:\\n- The quiz questions are well-structured and effectively assess knowledge on Generative AI.\\n- The options are distinct and cover a range of relevant topics.\\n- The explanations provided are clear and informative.\\n- No major improvements are needed, but consider adding a few more challenging questions to cover advanced topics in Generative AI for a more comprehensive assessment.\\n\\n### Example of an Additional Question:\\n**Question:** What is a common challenge faced by generative AI models in producing realistic outputs?\\n**Options:**\\n- A) Overfitting\\n- B) Mode collapse\\n- C) Underfitting\\n- D) Data leakage\\n- E) Vanishing gradient\\n**Correct Answer:** B) Mode collapse\\n**Difficulty:** Hard\\n**Explanation:** Mode collapse is a common challenge in generative AI where the model produces limited variations of outputs, failing to capture the full diversity of the training data.\\n\\nThis additional question would help assess a deeper understanding of the challenges associated with generative AI.'}"
      ]
     },
     "execution_count": 20,
     "metadata": {},
     "output_type": "execute_result"
    }
   ],
   "source": [
    "response"
   ]
  },
  {
   "cell_type": "code",
   "execution_count": 21,
   "metadata": {},
   "outputs": [
    {
     "name": "stdout",
     "output_type": "stream",
     "text": [
      "Total Tokens : 3478\n",
      "Prompt Tokens : 1590\n",
      "Completion Tokens : 1888\n",
      "Total Cost : 0.0\n"
     ]
    }
   ],
   "source": [
    "print(f\"Total Tokens : {cb.total_tokens}\")\n",
    "print(f\"Prompt Tokens : {cb.prompt_tokens}\")\n",
    "print(f\"Completion Tokens : {cb.completion_tokens}\")\n",
    "print(f\"Total Cost : {cb.total_cost}\")"
   ]
  },
  {
   "cell_type": "code",
   "execution_count": 22,
   "metadata": {},
   "outputs": [
    {
     "name": "stdout",
     "output_type": "stream",
     "text": [
      "<class 'str'>\n"
     ]
    },
    {
     "data": {
      "text/plain": [
       "'```json\\n{\\n  \"quizzes\": [\\n    {\\n      \"question_number\": 1,\\n      \"question\": \"What is Generative AI primarily used for?\",\\n      \"options\": [\\n        \"A) Analyzing existing data\",\\n        \"B) Creating new data\",\\n        \"C) Storing data\",\\n        \"D) Deleting data\",\\n        \"E) Sorting data\"\\n      ],\\n      \"correct_answer\": \"B) Creating new data\",\\n      \"difficulty\": \"Easy\",\\n      \"explanation\": \"Generative AI is primarily used for creating new data such as text, images, videos, or other forms of data.\"\\n    },\\n    {\\n      \"question_number\": 2,\\n      \"question\": \"Which of the following is an example of a generative AI model?\",\\n      \"options\": [\\n        \"A) Excel\",\\n        \"B) ChatGPT\",\\n        \"C) Google Maps\",\\n        \"D) Microsoft Word\",\\n        \"E) Adobe Photoshop\"\\n      ],\\n      \"correct_answer\": \"B) ChatGPT\",\\n      \"difficulty\": \"Easy\",\\n      \"explanation\": \"ChatGPT is an example of a generative AI model that can produce text in response to specific prompts.\"\\n    },\\n    {\\n      \"question_number\": 3,\\n      \"question\": \"What type of neural network is commonly used in generative AI systems?\",\\n      \"options\": [\\n        \"A) Convolutional Neural Networks (CNNs)\",\\n        \"B) Recurrent Neural Networks (RNNs)\",\\n        \"C) Transformer-based Neural Networks\",\\n        \"D) Feedforward Neural Networks\",\\n        \"E) Radial Basis Function Networks\"\\n      ],\\n      \"correct_answer\": \"C) Transformer-based Neural Networks\",\\n      \"difficulty\": \"Medium\",\\n      \"explanation\": \"Transformer-based deep neural networks, particularly large language models (LLMs), have enabled significant advancements in generative AI systems.\"\\n    },\\n    {\\n      \"question_number\": 4,\\n      \"question\": \"Which industry has raised concerns about the potential misuse of generative AI?\",\\n      \"options\": [\\n        \"A) Agriculture\",\\n        \"B) Manufacturing\",\\n        \"C) Cybersecurity\",\\n        \"D) Retail\",\\n        \"E) Hospitality\"\\n      ],\\n      \"correct_answer\": \"C) Cybersecurity\",\\n      \"difficulty\": \"Medium\",\\n      \"explanation\": \"Concerns have been raised about the potential misuse of generative AI in cybercrime, such as the use of fake news or deepfakes to deceive or manipulate people.\"\\n    },\\n    {\\n      \"question_number\": 5,\\n      \"question\": \"Which company has developed generative AI models like DALL-E?\",\\n      \"options\": [\\n        \"A) Apple\",\\n        \"B) Amazon\",\\n        \"C) OpenAI\",\\n        \"D) IBM\",\\n        \"E) Tesla\"\\n      ],\\n      \"correct_answer\": \"C) OpenAI\",\\n      \"difficulty\": \"Easy\",\\n      \"explanation\": \"OpenAI has developed generative AI models such as DALL-E, which is a text-to-image artificial intelligence image generation system.\"\\n    }\\n  ]\\n}\\n```'"
      ]
     },
     "execution_count": 22,
     "metadata": {},
     "output_type": "execute_result"
    }
   ],
   "source": [
    "quiz = response.get('quiz')\n",
    "print(type(quiz))\n",
    "quiz"
   ]
  },
  {
   "cell_type": "code",
   "execution_count": 23,
   "metadata": {},
   "outputs": [
    {
     "data": {
      "text/plain": [
       "'{\\n  \"quizzes\": [\\n    {\\n      \"question_number\": 1,\\n      \"question\": \"What is Generative AI primarily used for?\",\\n      \"options\": [\\n        \"A) Analyzing existing data\",\\n        \"B) Creating new data\",\\n        \"C) Storing data\",\\n        \"D) Deleting data\",\\n        \"E) Sorting data\"\\n      ],\\n      \"correct_answer\": \"B) Creating new data\",\\n      \"difficulty\": \"Easy\",\\n      \"explanation\": \"Generative AI is primarily used for creating new data such as text, images, videos, or other forms of data.\"\\n    },\\n    {\\n      \"question_number\": 2,\\n      \"question\": \"Which of the following is an example of a generative AI model?\",\\n      \"options\": [\\n        \"A) Excel\",\\n        \"B) ChatGPT\",\\n        \"C) Google Maps\",\\n        \"D) Microsoft Word\",\\n        \"E) Adobe Photoshop\"\\n      ],\\n      \"correct_answer\": \"B) ChatGPT\",\\n      \"difficulty\": \"Easy\",\\n      \"explanation\": \"ChatGPT is an example of a generative AI model that can produce text in response to specific prompts.\"\\n    },\\n    {\\n      \"question_number\": 3,\\n      \"question\": \"What type of neural network is commonly used in generative AI systems?\",\\n      \"options\": [\\n        \"A) Convolutional Neural Networks (CNNs)\",\\n        \"B) Recurrent Neural Networks (RNNs)\",\\n        \"C) Transformer-based Neural Networks\",\\n        \"D) Feedforward Neural Networks\",\\n        \"E) Radial Basis Function Networks\"\\n      ],\\n      \"correct_answer\": \"C) Transformer-based Neural Networks\",\\n      \"difficulty\": \"Medium\",\\n      \"explanation\": \"Transformer-based deep neural networks, particularly large language models (LLMs), have enabled significant advancements in generative AI systems.\"\\n    },\\n    {\\n      \"question_number\": 4,\\n      \"question\": \"Which industry has raised concerns about the potential misuse of generative AI?\",\\n      \"options\": [\\n        \"A) Agriculture\",\\n        \"B) Manufacturing\",\\n        \"C) Cybersecurity\",\\n        \"D) Retail\",\\n        \"E) Hospitality\"\\n      ],\\n      \"correct_answer\": \"C) Cybersecurity\",\\n      \"difficulty\": \"Medium\",\\n      \"explanation\": \"Concerns have been raised about the potential misuse of generative AI in cybercrime, such as the use of fake news or deepfakes to deceive or manipulate people.\"\\n    },\\n    {\\n      \"question_number\": 5,\\n      \"question\": \"Which company has developed generative AI models like DALL-E?\",\\n      \"options\": [\\n        \"A) Apple\",\\n        \"B) Amazon\",\\n        \"C) OpenAI\",\\n        \"D) IBM\",\\n        \"E) Tesla\"\\n      ],\\n      \"correct_answer\": \"C) OpenAI\",\\n      \"difficulty\": \"Easy\",\\n      \"explanation\": \"OpenAI has developed generative AI models such as DALL-E, which is a text-to-image artificial intelligence image generation system.\"\\n    }\\n  ]\\n}'"
      ]
     },
     "execution_count": 23,
     "metadata": {},
     "output_type": "execute_result"
    }
   ],
   "source": [
    "quiz = quiz.replace('```', '').strip()\n",
    "quiz = quiz.lstrip(\"json\\n\").strip()  \n",
    "quiz\n"
   ]
  },
  {
   "cell_type": "code",
   "execution_count": 24,
   "metadata": {},
   "outputs": [
    {
     "name": "stdout",
     "output_type": "stream",
     "text": [
      "<class 'dict'>\n"
     ]
    },
    {
     "data": {
      "text/plain": [
       "{'quizzes': [{'question_number': 1,\n",
       "   'question': 'What is Generative AI primarily used for?',\n",
       "   'options': ['A) Analyzing existing data',\n",
       "    'B) Creating new data',\n",
       "    'C) Storing data',\n",
       "    'D) Deleting data',\n",
       "    'E) Sorting data'],\n",
       "   'correct_answer': 'B) Creating new data',\n",
       "   'difficulty': 'Easy',\n",
       "   'explanation': 'Generative AI is primarily used for creating new data such as text, images, videos, or other forms of data.'},\n",
       "  {'question_number': 2,\n",
       "   'question': 'Which of the following is an example of a generative AI model?',\n",
       "   'options': ['A) Excel',\n",
       "    'B) ChatGPT',\n",
       "    'C) Google Maps',\n",
       "    'D) Microsoft Word',\n",
       "    'E) Adobe Photoshop'],\n",
       "   'correct_answer': 'B) ChatGPT',\n",
       "   'difficulty': 'Easy',\n",
       "   'explanation': 'ChatGPT is an example of a generative AI model that can produce text in response to specific prompts.'},\n",
       "  {'question_number': 3,\n",
       "   'question': 'What type of neural network is commonly used in generative AI systems?',\n",
       "   'options': ['A) Convolutional Neural Networks (CNNs)',\n",
       "    'B) Recurrent Neural Networks (RNNs)',\n",
       "    'C) Transformer-based Neural Networks',\n",
       "    'D) Feedforward Neural Networks',\n",
       "    'E) Radial Basis Function Networks'],\n",
       "   'correct_answer': 'C) Transformer-based Neural Networks',\n",
       "   'difficulty': 'Medium',\n",
       "   'explanation': 'Transformer-based deep neural networks, particularly large language models (LLMs), have enabled significant advancements in generative AI systems.'},\n",
       "  {'question_number': 4,\n",
       "   'question': 'Which industry has raised concerns about the potential misuse of generative AI?',\n",
       "   'options': ['A) Agriculture',\n",
       "    'B) Manufacturing',\n",
       "    'C) Cybersecurity',\n",
       "    'D) Retail',\n",
       "    'E) Hospitality'],\n",
       "   'correct_answer': 'C) Cybersecurity',\n",
       "   'difficulty': 'Medium',\n",
       "   'explanation': 'Concerns have been raised about the potential misuse of generative AI in cybercrime, such as the use of fake news or deepfakes to deceive or manipulate people.'},\n",
       "  {'question_number': 5,\n",
       "   'question': 'Which company has developed generative AI models like DALL-E?',\n",
       "   'options': ['A) Apple', 'B) Amazon', 'C) OpenAI', 'D) IBM', 'E) Tesla'],\n",
       "   'correct_answer': 'C) OpenAI',\n",
       "   'difficulty': 'Easy',\n",
       "   'explanation': 'OpenAI has developed generative AI models such as DALL-E, which is a text-to-image artificial intelligence image generation system.'}]}"
      ]
     },
     "execution_count": 24,
     "metadata": {},
     "output_type": "execute_result"
    }
   ],
   "source": [
    "quiz_dict = json.loads(quiz)\n",
    "print(type(quiz_dict))\n",
    "quiz_dict"
   ]
  },
  {
   "cell_type": "code",
   "execution_count": 25,
   "metadata": {},
   "outputs": [],
   "source": [
    "quiz_data = []\n",
    "\n",
    "for value in quiz_dict['quizzes']:\n",
    "    mcq = value['question']\n",
    "    options = \" | \".join(value['options'])\n",
    "    correct = value['correct_answer']\n",
    "    \n",
    "    quiz_data.append({\n",
    "        \"MCQ\": mcq,\n",
    "        \"Choices\": options,\n",
    "        \"Correct\": correct\n",
    "    })"
   ]
  },
  {
   "cell_type": "code",
   "execution_count": 26,
   "metadata": {},
   "outputs": [
    {
     "data": {
      "text/plain": [
       "[{'MCQ': 'What is Generative AI primarily used for?',\n",
       "  'Choices': 'A) Analyzing existing data | B) Creating new data | C) Storing data | D) Deleting data | E) Sorting data',\n",
       "  'Correct': 'B) Creating new data'},\n",
       " {'MCQ': 'Which of the following is an example of a generative AI model?',\n",
       "  'Choices': 'A) Excel | B) ChatGPT | C) Google Maps | D) Microsoft Word | E) Adobe Photoshop',\n",
       "  'Correct': 'B) ChatGPT'},\n",
       " {'MCQ': 'What type of neural network is commonly used in generative AI systems?',\n",
       "  'Choices': 'A) Convolutional Neural Networks (CNNs) | B) Recurrent Neural Networks (RNNs) | C) Transformer-based Neural Networks | D) Feedforward Neural Networks | E) Radial Basis Function Networks',\n",
       "  'Correct': 'C) Transformer-based Neural Networks'},\n",
       " {'MCQ': 'Which industry has raised concerns about the potential misuse of generative AI?',\n",
       "  'Choices': 'A) Agriculture | B) Manufacturing | C) Cybersecurity | D) Retail | E) Hospitality',\n",
       "  'Correct': 'C) Cybersecurity'},\n",
       " {'MCQ': 'Which company has developed generative AI models like DALL-E?',\n",
       "  'Choices': 'A) Apple | B) Amazon | C) OpenAI | D) IBM | E) Tesla',\n",
       "  'Correct': 'C) OpenAI'}]"
      ]
     },
     "execution_count": 26,
     "metadata": {},
     "output_type": "execute_result"
    }
   ],
   "source": [
    "quiz_data"
   ]
  },
  {
   "cell_type": "code",
   "execution_count": 29,
   "metadata": {},
   "outputs": [
    {
     "data": {
      "text/html": [
       "<div>\n",
       "<style scoped>\n",
       "    .dataframe tbody tr th:only-of-type {\n",
       "        vertical-align: middle;\n",
       "    }\n",
       "\n",
       "    .dataframe tbody tr th {\n",
       "        vertical-align: top;\n",
       "    }\n",
       "\n",
       "    .dataframe thead th {\n",
       "        text-align: right;\n",
       "    }\n",
       "</style>\n",
       "<table border=\"1\" class=\"dataframe\">\n",
       "  <thead>\n",
       "    <tr style=\"text-align: right;\">\n",
       "      <th></th>\n",
       "      <th>MCQ</th>\n",
       "      <th>Choices</th>\n",
       "      <th>Correct</th>\n",
       "    </tr>\n",
       "  </thead>\n",
       "  <tbody>\n",
       "    <tr>\n",
       "      <th>0</th>\n",
       "      <td>What is Generative AI primarily used for?</td>\n",
       "      <td>A) Analyzing existing data | B) Creating new d...</td>\n",
       "      <td>B) Creating new data</td>\n",
       "    </tr>\n",
       "    <tr>\n",
       "      <th>1</th>\n",
       "      <td>Which of the following is an example of a gene...</td>\n",
       "      <td>A) Excel | B) ChatGPT | C) Google Maps | D) Mi...</td>\n",
       "      <td>B) ChatGPT</td>\n",
       "    </tr>\n",
       "    <tr>\n",
       "      <th>2</th>\n",
       "      <td>What type of neural network is commonly used i...</td>\n",
       "      <td>A) Convolutional Neural Networks (CNNs) | B) R...</td>\n",
       "      <td>C) Transformer-based Neural Networks</td>\n",
       "    </tr>\n",
       "    <tr>\n",
       "      <th>3</th>\n",
       "      <td>Which industry has raised concerns about the p...</td>\n",
       "      <td>A) Agriculture | B) Manufacturing | C) Cyberse...</td>\n",
       "      <td>C) Cybersecurity</td>\n",
       "    </tr>\n",
       "    <tr>\n",
       "      <th>4</th>\n",
       "      <td>Which company has developed generative AI mode...</td>\n",
       "      <td>A) Apple | B) Amazon | C) OpenAI | D) IBM | E)...</td>\n",
       "      <td>C) OpenAI</td>\n",
       "    </tr>\n",
       "  </tbody>\n",
       "</table>\n",
       "</div>"
      ],
      "text/plain": [
       "                                                 MCQ  \\\n",
       "0          What is Generative AI primarily used for?   \n",
       "1  Which of the following is an example of a gene...   \n",
       "2  What type of neural network is commonly used i...   \n",
       "3  Which industry has raised concerns about the p...   \n",
       "4  Which company has developed generative AI mode...   \n",
       "\n",
       "                                             Choices  \\\n",
       "0  A) Analyzing existing data | B) Creating new d...   \n",
       "1  A) Excel | B) ChatGPT | C) Google Maps | D) Mi...   \n",
       "2  A) Convolutional Neural Networks (CNNs) | B) R...   \n",
       "3  A) Agriculture | B) Manufacturing | C) Cyberse...   \n",
       "4  A) Apple | B) Amazon | C) OpenAI | D) IBM | E)...   \n",
       "\n",
       "                                Correct  \n",
       "0                  B) Creating new data  \n",
       "1                            B) ChatGPT  \n",
       "2  C) Transformer-based Neural Networks  \n",
       "3                      C) Cybersecurity  \n",
       "4                             C) OpenAI  "
      ]
     },
     "execution_count": 29,
     "metadata": {},
     "output_type": "execute_result"
    }
   ],
   "source": [
    "quiz_df = pd.DataFrame(quiz_data)\n",
    "quiz_df"
   ]
  },
  {
   "cell_type": "code",
   "execution_count": 30,
   "metadata": {},
   "outputs": [],
   "source": [
    "quiz_df.to_csv(\"quiz_data.csv\",index=False)"
   ]
  },
  {
   "cell_type": "code",
   "execution_count": null,
   "metadata": {},
   "outputs": [],
   "source": []
  },
  {
   "cell_type": "code",
   "execution_count": null,
   "metadata": {},
   "outputs": [],
   "source": []
  },
  {
   "cell_type": "code",
   "execution_count": null,
   "metadata": {},
   "outputs": [],
   "source": []
  },
  {
   "cell_type": "code",
   "execution_count": null,
   "metadata": {},
   "outputs": [],
   "source": []
  },
  {
   "cell_type": "code",
   "execution_count": null,
   "metadata": {},
   "outputs": [],
   "source": []
  },
  {
   "cell_type": "code",
   "execution_count": null,
   "metadata": {},
   "outputs": [],
   "source": []
  },
  {
   "cell_type": "code",
   "execution_count": null,
   "metadata": {},
   "outputs": [],
   "source": []
  },
  {
   "cell_type": "code",
   "execution_count": null,
   "metadata": {},
   "outputs": [],
   "source": []
  },
  {
   "cell_type": "code",
   "execution_count": null,
   "metadata": {},
   "outputs": [],
   "source": []
  },
  {
   "cell_type": "code",
   "execution_count": null,
   "metadata": {},
   "outputs": [],
   "source": []
  },
  {
   "cell_type": "code",
   "execution_count": null,
   "metadata": {},
   "outputs": [],
   "source": []
  },
  {
   "cell_type": "code",
   "execution_count": null,
   "metadata": {},
   "outputs": [],
   "source": []
  },
  {
   "cell_type": "code",
   "execution_count": null,
   "metadata": {},
   "outputs": [],
   "source": []
  },
  {
   "cell_type": "code",
   "execution_count": null,
   "metadata": {},
   "outputs": [],
   "source": []
  },
  {
   "cell_type": "code",
   "execution_count": null,
   "metadata": {},
   "outputs": [],
   "source": []
  },
  {
   "cell_type": "code",
   "execution_count": null,
   "metadata": {},
   "outputs": [],
   "source": []
  },
  {
   "cell_type": "code",
   "execution_count": null,
   "metadata": {},
   "outputs": [],
   "source": []
  },
  {
   "cell_type": "code",
   "execution_count": null,
   "metadata": {},
   "outputs": [],
   "source": []
  }
 ],
 "metadata": {
  "kernelspec": {
   "display_name": "Python 3",
   "language": "python",
   "name": "python3"
  },
  "language_info": {
   "codemirror_mode": {
    "name": "ipython",
    "version": 3
   },
   "file_extension": ".py",
   "mimetype": "text/x-python",
   "name": "python",
   "nbconvert_exporter": "python",
   "pygments_lexer": "ipython3",
   "version": "3.12.4"
  }
 },
 "nbformat": 4,
 "nbformat_minor": 2
}
