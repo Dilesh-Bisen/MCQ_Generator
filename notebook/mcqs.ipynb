{
 "cells": [
  {
   "cell_type": "code",
   "execution_count": 23,
   "metadata": {},
   "outputs": [],
   "source": [
    "import os \n",
    "import json\n",
    "import pandas as pd  \n",
    "import traceback"
   ]
  },
  {
   "cell_type": "code",
   "execution_count": 24,
   "metadata": {},
   "outputs": [
    {
     "data": {
      "text/plain": [
       "True"
      ]
     },
     "execution_count": 24,
     "metadata": {},
     "output_type": "execute_result"
    }
   ],
   "source": [
    "from dotenv import load_dotenv\n",
    "load_dotenv()"
   ]
  },
  {
   "cell_type": "code",
   "execution_count": 25,
   "metadata": {},
   "outputs": [],
   "source": [
    "# my_key = os.getenv(\"GEMINI_API_KEY\")\n",
    "\n",
    "# from langchain_google_genai import ChatGoogleGenerativeAI\n",
    "\n",
    "# llm = ChatGoogleGenerativeAI(\n",
    "#     model=\"gemini-1.5-pro\",\n",
    "#     api_key = my_key,\n",
    "#     temperature=0.5\n",
    "# )"
   ]
  },
  {
   "cell_type": "code",
   "execution_count": 26,
   "metadata": {},
   "outputs": [],
   "source": [
    "my_key = os.getenv(\"MISTRAL_API_KEY\")"
   ]
  },
  {
   "cell_type": "code",
   "execution_count": 27,
   "metadata": {},
   "outputs": [],
   "source": [
    "from langchain_mistralai import ChatMistralAI\n",
    "\n",
    "llm = ChatMistralAI(\n",
    "    api_key = my_key,\n",
    "    model=\"mistral-large-latest\",\n",
    "    temperature=0.5,\n",
    "    max_retries=2,\n",
    ")"
   ]
  },
  {
   "cell_type": "code",
   "execution_count": 28,
   "metadata": {},
   "outputs": [],
   "source": [
    "from langchain.prompts import PromptTemplate\n",
    "from langchain.schema.runnable import RunnableSequence\n",
    "from langchain.chains import LLMChain\n",
    "from langchain.chains import SequentialChain\n",
    "from langchain.callbacks import get_openai_callback\n",
    "\n",
    "import PyPDF2\n"
   ]
  },
  {
   "cell_type": "code",
   "execution_count": 29,
   "metadata": {},
   "outputs": [],
   "source": [
    "RESPONSE_JSON = {\n",
    "    \"quizzes\": [\n",
    "        {\n",
    "            \"question_number\": 1,\n",
    "            \"question\": \"First generated question here based on {text} and {subject}\",\n",
    "            \"options\": [\n",
    "                \"A) Option A\",\n",
    "                \"B) Option B\",\n",
    "                \"C) Option C\",\n",
    "                \"D) Option D\"\n",
    "            ],\n",
    "            \"correct_answer\": \"B\",\n",
    "            \"difficulty\": \"Medium\",\n",
    "            \"explanation\": \"Explanation for the correct answer.\"\n",
    "        },\n",
    "        {\n",
    "            \"question_number\": 2,\n",
    "            \"question\": \"Second generated question here based on {text} and {subject}\",\n",
    "            \"options\": [\n",
    "                \"A) Option A\",\n",
    "                \"B) Option B\",\n",
    "                \"C) Option C\",\n",
    "                \"D) Option D\"\n",
    "            ],\n",
    "            \"correct_answer\": \"C\",\n",
    "            \"difficulty\": \"Hard\",\n",
    "            \"explanation\": \"Explanation for the correct answer.\"\n",
    "        }\n",
    "    ]\n",
    "}\n"
   ]
  },
  {
   "cell_type": "code",
   "execution_count": 30,
   "metadata": {},
   "outputs": [],
   "source": [
    "TEMPLATE1 = \"\"\"\n",
    "You are tasked with creating {number} multiple-choice questions for an educational quiz. \n",
    "The topic of each question should be based on {text}. \n",
    "The subject is {subject}, and the tone of the questions should be {tone}. \n",
    "Ensure that each question effectively tests the user's knowledge, is clear, concise, and does not repeat the answer or options. \n",
    "For each question, provide {number} options, only one of which is correct. \n",
    "Return all questions and options in the following \n",
    "### RESPONSE_JSON \n",
    "{response_json}\n",
    "\"\"\""
   ]
  },
  {
   "cell_type": "code",
   "execution_count": 31,
   "metadata": {},
   "outputs": [],
   "source": [
    "prompt1 = PromptTemplate(\n",
    "    input_variables=['text', 'number', 'subject', 'tone', 'response_json'],\n",
    "    template=TEMPLATE1\n",
    ")"
   ]
  },
  {
   "cell_type": "code",
   "execution_count": 32,
   "metadata": {},
   "outputs": [],
   "source": [
    "chain1 = LLMChain(prompt=prompt1, llm=llm, output_key=\"quiz\",verbose=True)"
   ]
  },
  {
   "cell_type": "code",
   "execution_count": 33,
   "metadata": {},
   "outputs": [],
   "source": [
    "TEMPLATE2 = \"\"\"\n",
    "You are tasked with evaluating the quiz based on the subject: {subject}. \n",
    "Please review the quiz questions and options provided in the {quiz}. \n",
    "Ensure that the questions effectively assess the knowledge of the respondents, are clear and concise, and that the options are distinct from each other. \n",
    "Provide feedback on the clarity of the questions and the appropriateness of the options given. \n",
    "Make suggestions for any improvements needed for better evaluation.\n",
    "\"\"\""
   ]
  },
  {
   "cell_type": "code",
   "execution_count": 34,
   "metadata": {},
   "outputs": [],
   "source": [
    "prompt2 = PromptTemplate(\n",
    "    input_variables=['subject', 'quiz'],\n",
    "    template=TEMPLATE2\n",
    ")"
   ]
  },
  {
   "cell_type": "code",
   "execution_count": 35,
   "metadata": {},
   "outputs": [],
   "source": [
    "chain2 = LLMChain(prompt=prompt2, llm=llm, output_key=\"review\",verbose=True)"
   ]
  },
  {
   "cell_type": "code",
   "execution_count": 36,
   "metadata": {},
   "outputs": [],
   "source": [
    "combine_chain = SequentialChain(\n",
    "    chains = [chain1, chain2],\n",
    "    input_variables=['text', 'number', 'subject', 'tone', 'response_json'],\n",
    "    output_variables=[\"quiz\",\"review\"],\n",
    "    verbose=True\n",
    ")"
   ]
  },
  {
   "cell_type": "code",
   "execution_count": 37,
   "metadata": {},
   "outputs": [],
   "source": [
    "file_path = r\"D:\\HP_Laptop\\Project\\04_GenAI\\MCQ_Generator\\data.txt\""
   ]
  },
  {
   "cell_type": "code",
   "execution_count": 38,
   "metadata": {},
   "outputs": [
    {
     "name": "stdout",
     "output_type": "stream",
     "text": [
      "Generative artificial intelligence (generative AI, GenAI,[1] or GAI) is a subset of artificial intelligence that uses generative models to produce text, images, videos, or other forms of data.[2] These models often generate output in response to specific prompts.[3][4] Generative AI systems learn the underlying patterns and structures of their training data, enabling them to create new data.[5][6]\n",
      "\n",
      "Improvements in transformer-based deep neural networks, particularly large language models (LLMs), enabled an AI boom of generative AI systems in the early 2020s. These include chatbots such as ChatGPT, Copilot, Gemini and LLaMA, text-to-image artificial intelligence image generation systems such as Stable Diffusion, Midjourney and DALL-E, and text-to-video AI generators such as Sora.[7][8][9][10] Companies such as OpenAI, Anthropic, Microsoft, Google, and Baidu as well as numerous smaller firms have developed generative AI models.[3][11][12]\n",
      "\n",
      "Generative AI has uses across a wide range of industries, including software development, healthcare, finance, entertainment, customer service,[13] sales and marketing,[14] art, writing,[15] fashion,[16] and product design.[17] However, concerns have been raised about the potential misuse of generative AI such as cybercrime, the use of fake news or deepfakes to deceive or manipulate people, and the mass replacement of human jobs.[18][19] Intellectual property law concerns also exist, around generative models that are trained on and emulate copyrighted works of art.[20]\n"
     ]
    }
   ],
   "source": [
    "with open(file_path,'r') as file:\n",
    "    TEXT = file.read()\n",
    "\n",
    "print(TEXT)"
   ]
  },
  {
   "cell_type": "code",
   "execution_count": 39,
   "metadata": {},
   "outputs": [],
   "source": [
    "NUMBER = 5\n",
    "SUBJECT = \"Generative AI\"\n",
    "TONE = \"Simple\""
   ]
  },
  {
   "cell_type": "code",
   "execution_count": 40,
   "metadata": {},
   "outputs": [],
   "source": [
    "RES_JSON = json.dumps(RESPONSE_JSON)"
   ]
  },
  {
   "cell_type": "code",
   "execution_count": 41,
   "metadata": {},
   "outputs": [
    {
     "name": "stdout",
     "output_type": "stream",
     "text": [
      "\n",
      "\n",
      "\u001b[1m> Entering new SequentialChain chain...\u001b[0m\n",
      "\n",
      "\n",
      "\u001b[1m> Entering new LLMChain chain...\u001b[0m\n",
      "Prompt after formatting:\n",
      "\u001b[32;1m\u001b[1;3m\n",
      "You are tasked with creating 5 multiple-choice questions for an educational quiz. \n",
      "The topic of each question should be based on Generative artificial intelligence (generative AI, GenAI,[1] or GAI) is a subset of artificial intelligence that uses generative models to produce text, images, videos, or other forms of data.[2] These models often generate output in response to specific prompts.[3][4] Generative AI systems learn the underlying patterns and structures of their training data, enabling them to create new data.[5][6]\n",
      "\n",
      "Improvements in transformer-based deep neural networks, particularly large language models (LLMs), enabled an AI boom of generative AI systems in the early 2020s. These include chatbots such as ChatGPT, Copilot, Gemini and LLaMA, text-to-image artificial intelligence image generation systems such as Stable Diffusion, Midjourney and DALL-E, and text-to-video AI generators such as Sora.[7][8][9][10] Companies such as OpenAI, Anthropic, Microsoft, Google, and Baidu as well as numerous smaller firms have developed generative AI models.[3][11][12]\n",
      "\n",
      "Generative AI has uses across a wide range of industries, including software development, healthcare, finance, entertainment, customer service,[13] sales and marketing,[14] art, writing,[15] fashion,[16] and product design.[17] However, concerns have been raised about the potential misuse of generative AI such as cybercrime, the use of fake news or deepfakes to deceive or manipulate people, and the mass replacement of human jobs.[18][19] Intellectual property law concerns also exist, around generative models that are trained on and emulate copyrighted works of art.[20]. \n",
      "The subject is Generative AI, and the tone of the questions should be Simple. \n",
      "Ensure that each question effectively tests the user's knowledge, is clear, concise, and does not repeat the answer or options. \n",
      "For each question, provide 5 options, only one of which is correct. \n",
      "Return all questions and options in the following \n",
      "### RESPONSE_JSON \n",
      "{\"quizzes\": [{\"question_number\": 1, \"question\": \"First generated question here based on {text} and {subject}\", \"options\": [\"A) Option A\", \"B) Option B\", \"C) Option C\", \"D) Option D\"], \"correct_answer\": \"B\", \"difficulty\": \"Medium\", \"explanation\": \"Explanation for the correct answer.\"}, {\"question_number\": 2, \"question\": \"Second generated question here based on {text} and {subject}\", \"options\": [\"A) Option A\", \"B) Option B\", \"C) Option C\", \"D) Option D\"], \"correct_answer\": \"C\", \"difficulty\": \"Hard\", \"explanation\": \"Explanation for the correct answer.\"}]}\n",
      "\u001b[0m\n",
      "\n",
      "\u001b[1m> Finished chain.\u001b[0m\n",
      "\n",
      "\n",
      "\u001b[1m> Entering new LLMChain chain...\u001b[0m\n",
      "Prompt after formatting:\n",
      "\u001b[32;1m\u001b[1;3m\n",
      "You are tasked with evaluating the quiz based on the subject: Generative AI. \n",
      "Please review the quiz questions and options provided in the ```json\n",
      "{\n",
      "  \"quizzes\": [\n",
      "    {\n",
      "      \"question_number\": 1,\n",
      "      \"question\": \"What is the primary purpose of generative AI?\",\n",
      "      \"options\": [\n",
      "        \"A) To analyze existing data\",\n",
      "        \"B) To create new data based on patterns learned from training data\",\n",
      "        \"C) To perform calculations\",\n",
      "        \"D) To store information\",\n",
      "        \"E) To predict future events\"\n",
      "      ],\n",
      "      \"correct_answer\": \"B\",\n",
      "      \"difficulty\": \"Easy\",\n",
      "      \"explanation\": \"Generative AI systems learn the underlying patterns and structures of their training data, enabling them to create new data.\"\n",
      "    },\n",
      "    {\n",
      "      \"question_number\": 2,\n",
      "      \"question\": \"Which of the following is an example of a generative AI model?\",\n",
      "      \"options\": [\n",
      "        \"A) Google Search\",\n",
      "        \"B) ChatGPT\",\n",
      "        \"C) Excel\",\n",
      "        \"D) Photoshop\",\n",
      "        \"E) Microsoft Word\"\n",
      "      ],\n",
      "      \"correct_answer\": \"B\",\n",
      "      \"difficulty\": \"Easy\",\n",
      "      \"explanation\": \"ChatGPT is a well-known example of a generative AI model that can produce text in response to specific prompts.\"\n",
      "    },\n",
      "    {\n",
      "      \"question_number\": 3,\n",
      "      \"question\": \"What type of neural network has significantly contributed to the advancement of generative AI?\",\n",
      "      \"options\": [\n",
      "        \"A) Convolutional Neural Networks\",\n",
      "        \"B) Recurrent Neural Networks\",\n",
      "        \"C) Transformer-based Deep Neural Networks\",\n",
      "        \"D) Feedforward Neural Networks\",\n",
      "        \"E) Autoencoders\"\n",
      "      ],\n",
      "      \"correct_answer\": \"C\",\n",
      "      \"difficulty\": \"Medium\",\n",
      "      \"explanation\": \"Improvements in transformer-based deep neural networks have enabled an AI boom of generative AI systems in the early 2020s.\"\n",
      "    },\n",
      "    {\n",
      "      \"question_number\": 4,\n",
      "      \"question\": \"Which of the following is a text-to-image AI generation system?\",\n",
      "      \"options\": [\n",
      "        \"A) ChatGPT\",\n",
      "        \"B) Stable Diffusion\",\n",
      "        \"C) Copilot\",\n",
      "        \"D) LLaMA\",\n",
      "        \"E) Sora\"\n",
      "      ],\n",
      "      \"correct_answer\": \"B\",\n",
      "      \"difficulty\": \"Medium\",\n",
      "      \"explanation\": \"Stable Diffusion is a text-to-image artificial intelligence image generation system.\"\n",
      "    },\n",
      "    {\n",
      "      \"question_number\": 5,\n",
      "      \"question\": \"What is one of the potential concerns about the use of generative AI?\",\n",
      "      \"options\": [\n",
      "        \"A) Increased job security\",\n",
      "        \"B) Improved data privacy\",\n",
      "        \"C) Cybercrime and the use of deepfakes\",\n",
      "        \"D) Enhanced data storage\",\n",
      "        \"E) Faster internet speeds\"\n",
      "      ],\n",
      "      \"correct_answer\": \"C\",\n",
      "      \"difficulty\": \"Medium\",\n",
      "      \"explanation\": \"Concerns have been raised about the potential misuse of generative AI such as cybercrime and the use of deepfakes to deceive or manipulate people.\"\n",
      "    }\n",
      "  ]\n",
      "}\n",
      "```. \n",
      "Ensure that the questions effectively assess the knowledge of the respondents, are clear and concise, and that the options are distinct from each other. \n",
      "Provide feedback on the clarity of the questions and the appropriateness of the options given. \n",
      "Make suggestions for any improvements needed for better evaluation.\n",
      "\u001b[0m\n",
      "\n",
      "\u001b[1m> Finished chain.\u001b[0m\n",
      "\n",
      "\u001b[1m> Finished chain.\u001b[0m\n"
     ]
    }
   ],
   "source": [
    "response = None  \n",
    "try:\n",
    "    with get_openai_callback() as cb:\n",
    "        response = combine_chain.invoke({\n",
    "            'text': TEXT, \n",
    "            'number': NUMBER,\n",
    "            'subject': SUBJECT,\n",
    "            'tone': TONE,\n",
    "            'response_json': RES_JSON\n",
    "        })\n",
    "except Exception as e:\n",
    "    print(f\"An error occurred: {e}\")\n"
   ]
  },
  {
   "cell_type": "code",
   "execution_count": 42,
   "metadata": {},
   "outputs": [
    {
     "name": "stdout",
     "output_type": "stream",
     "text": [
      "{'text': 'Generative artificial intelligence (generative AI, GenAI,[1] or GAI) is a subset of artificial intelligence that uses generative models to produce text, images, videos, or other forms of data.[2] These models often generate output in response to specific prompts.[3][4] Generative AI systems learn the underlying patterns and structures of their training data, enabling them to create new data.[5][6]\\n\\nImprovements in transformer-based deep neural networks, particularly large language models (LLMs), enabled an AI boom of generative AI systems in the early 2020s. These include chatbots such as ChatGPT, Copilot, Gemini and LLaMA, text-to-image artificial intelligence image generation systems such as Stable Diffusion, Midjourney and DALL-E, and text-to-video AI generators such as Sora.[7][8][9][10] Companies such as OpenAI, Anthropic, Microsoft, Google, and Baidu as well as numerous smaller firms have developed generative AI models.[3][11][12]\\n\\nGenerative AI has uses across a wide range of industries, including software development, healthcare, finance, entertainment, customer service,[13] sales and marketing,[14] art, writing,[15] fashion,[16] and product design.[17] However, concerns have been raised about the potential misuse of generative AI such as cybercrime, the use of fake news or deepfakes to deceive or manipulate people, and the mass replacement of human jobs.[18][19] Intellectual property law concerns also exist, around generative models that are trained on and emulate copyrighted works of art.[20]', 'number': 5, 'subject': 'Generative AI', 'tone': 'Simple', 'response_json': '{\"quizzes\": [{\"question_number\": 1, \"question\": \"First generated question here based on {text} and {subject}\", \"options\": [\"A) Option A\", \"B) Option B\", \"C) Option C\", \"D) Option D\"], \"correct_answer\": \"B\", \"difficulty\": \"Medium\", \"explanation\": \"Explanation for the correct answer.\"}, {\"question_number\": 2, \"question\": \"Second generated question here based on {text} and {subject}\", \"options\": [\"A) Option A\", \"B) Option B\", \"C) Option C\", \"D) Option D\"], \"correct_answer\": \"C\", \"difficulty\": \"Hard\", \"explanation\": \"Explanation for the correct answer.\"}]}', 'quiz': '```json\\n{\\n  \"quizzes\": [\\n    {\\n      \"question_number\": 1,\\n      \"question\": \"What is the primary purpose of generative AI?\",\\n      \"options\": [\\n        \"A) To analyze existing data\",\\n        \"B) To create new data based on patterns learned from training data\",\\n        \"C) To perform calculations\",\\n        \"D) To store information\",\\n        \"E) To predict future events\"\\n      ],\\n      \"correct_answer\": \"B\",\\n      \"difficulty\": \"Easy\",\\n      \"explanation\": \"Generative AI systems learn the underlying patterns and structures of their training data, enabling them to create new data.\"\\n    },\\n    {\\n      \"question_number\": 2,\\n      \"question\": \"Which of the following is an example of a generative AI model?\",\\n      \"options\": [\\n        \"A) Google Search\",\\n        \"B) ChatGPT\",\\n        \"C) Excel\",\\n        \"D) Photoshop\",\\n        \"E) Microsoft Word\"\\n      ],\\n      \"correct_answer\": \"B\",\\n      \"difficulty\": \"Easy\",\\n      \"explanation\": \"ChatGPT is a well-known example of a generative AI model that can produce text in response to specific prompts.\"\\n    },\\n    {\\n      \"question_number\": 3,\\n      \"question\": \"What type of neural network has significantly contributed to the advancement of generative AI?\",\\n      \"options\": [\\n        \"A) Convolutional Neural Networks\",\\n        \"B) Recurrent Neural Networks\",\\n        \"C) Transformer-based Deep Neural Networks\",\\n        \"D) Feedforward Neural Networks\",\\n        \"E) Autoencoders\"\\n      ],\\n      \"correct_answer\": \"C\",\\n      \"difficulty\": \"Medium\",\\n      \"explanation\": \"Improvements in transformer-based deep neural networks have enabled an AI boom of generative AI systems in the early 2020s.\"\\n    },\\n    {\\n      \"question_number\": 4,\\n      \"question\": \"Which of the following is a text-to-image AI generation system?\",\\n      \"options\": [\\n        \"A) ChatGPT\",\\n        \"B) Stable Diffusion\",\\n        \"C) Copilot\",\\n        \"D) LLaMA\",\\n        \"E) Sora\"\\n      ],\\n      \"correct_answer\": \"B\",\\n      \"difficulty\": \"Medium\",\\n      \"explanation\": \"Stable Diffusion is a text-to-image artificial intelligence image generation system.\"\\n    },\\n    {\\n      \"question_number\": 5,\\n      \"question\": \"What is one of the potential concerns about the use of generative AI?\",\\n      \"options\": [\\n        \"A) Increased job security\",\\n        \"B) Improved data privacy\",\\n        \"C) Cybercrime and the use of deepfakes\",\\n        \"D) Enhanced data storage\",\\n        \"E) Faster internet speeds\"\\n      ],\\n      \"correct_answer\": \"C\",\\n      \"difficulty\": \"Medium\",\\n      \"explanation\": \"Concerns have been raised about the potential misuse of generative AI such as cybercrime and the use of deepfakes to deceive or manipulate people.\"\\n    }\\n  ]\\n}\\n```', 'review': 'The provided quiz on Generative AI is generally well-structured and effectively assesses the knowledge of the respondents. Here is a detailed review of each question along with suggestions for improvement, if any:\\n\\n### Question 1\\n**Question:** What is the primary purpose of generative AI?\\n**Options:**\\n- A) To analyze existing data\\n- B) To create new data based on patterns learned from training data\\n- C) To perform calculations\\n- D) To store information\\n- E) To predict future events\\n\\n**Feedback:**\\n- The question is clear and concise.\\n- The options are distinct and cover a range of possible purposes, making it easy to identify the correct answer.\\n\\n**Suggestions:**\\n- No changes needed.\\n\\n### Question 2\\n**Question:** Which of the following is an example of a generative AI model?\\n**Options:**\\n- A) Google Search\\n- B) ChatGPT\\n- C) Excel\\n- D) Photoshop\\n- E) Microsoft Word\\n\\n**Feedback:**\\n- The question is clear and straightforward.\\n- The options are distinct and include a mix of AI and non-AI tools, which helps in identifying the correct answer.\\n\\n**Suggestions:**\\n- No changes needed.\\n\\n### Question 3\\n**Question:** What type of neural network has significantly contributed to the advancement of generative AI?\\n**Options:**\\n- A) Convolutional Neural Networks\\n- B) Recurrent Neural Networks\\n- C) Transformer-based Deep Neural Networks\\n- D) Feedforward Neural Networks\\n- E) Autoencoders\\n\\n**Feedback:**\\n- The question is clear and concise.\\n- The options are distinct and cover various types of neural networks, making it easy to identify the correct answer.\\n\\n**Suggestions:**\\n- No changes needed.\\n\\n### Question 4\\n**Question:** Which of the following is a text-to-image AI generation system?\\n**Options:**\\n- A) ChatGPT\\n- B) Stable Diffusion\\n- C) Copilot\\n- D) LLaMA\\n- E) Sora\\n\\n**Feedback:**\\n- The question is clear and concise.\\n- The options are distinct, although some respondents might not be familiar with all the options.\\n\\n**Suggestions:**\\n- Consider adding a brief explanation of what \"text-to-image AI generation system\" means to ensure clarity.\\n- Alternatively, you could provide a brief description of each option to help respondents who might not be familiar with all the terms.\\n\\n### Question 5\\n**Question:** What is one of the potential concerns about the use of generative AI?\\n**Options:**\\n- A) Increased job security\\n- B) Improved data privacy\\n- C) Cybercrime and the use of deepfakes\\n- D) Enhanced data storage\\n- E) Faster internet speeds\\n\\n**Feedback:**\\n- The question is clear and concise.\\n- The options are distinct and cover a range of potential concerns and benefits, making it easy to identify the correct answer.\\n\\n**Suggestions:**\\n- No changes needed.\\n\\n### Overall Feedback and Suggestions:\\n- The quiz is well-designed and effectively assesses knowledge about generative AI.\\n- The questions are clear and concise, and the options are distinct.\\n- For Question 4, consider adding a brief explanation or description to ensure clarity for all respondents.\\n\\nOverall, the quiz is well-structured and should effectively evaluate the respondents\\' knowledge of generative AI.'}\n"
     ]
    }
   ],
   "source": [
    "if response:\n",
    "    print(response)\n",
    "else:\n",
    "    print(\"No response generated.\")"
   ]
  },
  {
   "cell_type": "code",
   "execution_count": 43,
   "metadata": {},
   "outputs": [
    {
     "name": "stdout",
     "output_type": "stream",
     "text": [
      "Total Tokens : 3168\n",
      "Prompt Tokens : 1572\n",
      "Completion Tokens : 1596\n",
      "Total Cost : 0.0\n"
     ]
    }
   ],
   "source": [
    "print(f\"Total Tokens : {cb.total_tokens}\")\n",
    "print(f\"Prompt Tokens : {cb.prompt_tokens}\")\n",
    "print(f\"Completion Tokens : {cb.completion_tokens}\")\n",
    "print(f\"Total Cost : {cb.total_cost}\")"
   ]
  },
  {
   "cell_type": "code",
   "execution_count": 44,
   "metadata": {},
   "outputs": [
    {
     "name": "stdout",
     "output_type": "stream",
     "text": [
      "<class 'str'>\n"
     ]
    },
    {
     "data": {
      "text/plain": [
       "'```json\\n{\\n  \"quizzes\": [\\n    {\\n      \"question_number\": 1,\\n      \"question\": \"What is the primary purpose of generative AI?\",\\n      \"options\": [\\n        \"A) To analyze existing data\",\\n        \"B) To create new data based on patterns learned from training data\",\\n        \"C) To perform calculations\",\\n        \"D) To store information\",\\n        \"E) To predict future events\"\\n      ],\\n      \"correct_answer\": \"B\",\\n      \"difficulty\": \"Easy\",\\n      \"explanation\": \"Generative AI systems learn the underlying patterns and structures of their training data, enabling them to create new data.\"\\n    },\\n    {\\n      \"question_number\": 2,\\n      \"question\": \"Which of the following is an example of a generative AI model?\",\\n      \"options\": [\\n        \"A) Google Search\",\\n        \"B) ChatGPT\",\\n        \"C) Excel\",\\n        \"D) Photoshop\",\\n        \"E) Microsoft Word\"\\n      ],\\n      \"correct_answer\": \"B\",\\n      \"difficulty\": \"Easy\",\\n      \"explanation\": \"ChatGPT is a well-known example of a generative AI model that can produce text in response to specific prompts.\"\\n    },\\n    {\\n      \"question_number\": 3,\\n      \"question\": \"What type of neural network has significantly contributed to the advancement of generative AI?\",\\n      \"options\": [\\n        \"A) Convolutional Neural Networks\",\\n        \"B) Recurrent Neural Networks\",\\n        \"C) Transformer-based Deep Neural Networks\",\\n        \"D) Feedforward Neural Networks\",\\n        \"E) Autoencoders\"\\n      ],\\n      \"correct_answer\": \"C\",\\n      \"difficulty\": \"Medium\",\\n      \"explanation\": \"Improvements in transformer-based deep neural networks have enabled an AI boom of generative AI systems in the early 2020s.\"\\n    },\\n    {\\n      \"question_number\": 4,\\n      \"question\": \"Which of the following is a text-to-image AI generation system?\",\\n      \"options\": [\\n        \"A) ChatGPT\",\\n        \"B) Stable Diffusion\",\\n        \"C) Copilot\",\\n        \"D) LLaMA\",\\n        \"E) Sora\"\\n      ],\\n      \"correct_answer\": \"B\",\\n      \"difficulty\": \"Medium\",\\n      \"explanation\": \"Stable Diffusion is a text-to-image artificial intelligence image generation system.\"\\n    },\\n    {\\n      \"question_number\": 5,\\n      \"question\": \"What is one of the potential concerns about the use of generative AI?\",\\n      \"options\": [\\n        \"A) Increased job security\",\\n        \"B) Improved data privacy\",\\n        \"C) Cybercrime and the use of deepfakes\",\\n        \"D) Enhanced data storage\",\\n        \"E) Faster internet speeds\"\\n      ],\\n      \"correct_answer\": \"C\",\\n      \"difficulty\": \"Medium\",\\n      \"explanation\": \"Concerns have been raised about the potential misuse of generative AI such as cybercrime and the use of deepfakes to deceive or manipulate people.\"\\n    }\\n  ]\\n}\\n```'"
      ]
     },
     "execution_count": 44,
     "metadata": {},
     "output_type": "execute_result"
    }
   ],
   "source": [
    "quiz = response.get('quiz')\n",
    "print(type(quiz))\n",
    "quiz"
   ]
  },
  {
   "cell_type": "code",
   "execution_count": 45,
   "metadata": {},
   "outputs": [
    {
     "data": {
      "text/plain": [
       "'{\\n  \"quizzes\": [\\n    {\\n      \"question_number\": 1,\\n      \"question\": \"What is the primary purpose of generative AI?\",\\n      \"options\": [\\n        \"A) To analyze existing data\",\\n        \"B) To create new data based on patterns learned from training data\",\\n        \"C) To perform calculations\",\\n        \"D) To store information\",\\n        \"E) To predict future events\"\\n      ],\\n      \"correct_answer\": \"B\",\\n      \"difficulty\": \"Easy\",\\n      \"explanation\": \"Generative AI systems learn the underlying patterns and structures of their training data, enabling them to create new data.\"\\n    },\\n    {\\n      \"question_number\": 2,\\n      \"question\": \"Which of the following is an example of a generative AI model?\",\\n      \"options\": [\\n        \"A) Google Search\",\\n        \"B) ChatGPT\",\\n        \"C) Excel\",\\n        \"D) Photoshop\",\\n        \"E) Microsoft Word\"\\n      ],\\n      \"correct_answer\": \"B\",\\n      \"difficulty\": \"Easy\",\\n      \"explanation\": \"ChatGPT is a well-known example of a generative AI model that can produce text in response to specific prompts.\"\\n    },\\n    {\\n      \"question_number\": 3,\\n      \"question\": \"What type of neural network has significantly contributed to the advancement of generative AI?\",\\n      \"options\": [\\n        \"A) Convolutional Neural Networks\",\\n        \"B) Recurrent Neural Networks\",\\n        \"C) Transformer-based Deep Neural Networks\",\\n        \"D) Feedforward Neural Networks\",\\n        \"E) Autoencoders\"\\n      ],\\n      \"correct_answer\": \"C\",\\n      \"difficulty\": \"Medium\",\\n      \"explanation\": \"Improvements in transformer-based deep neural networks have enabled an AI boom of generative AI systems in the early 2020s.\"\\n    },\\n    {\\n      \"question_number\": 4,\\n      \"question\": \"Which of the following is a text-to-image AI generation system?\",\\n      \"options\": [\\n        \"A) ChatGPT\",\\n        \"B) Stable Diffusion\",\\n        \"C) Copilot\",\\n        \"D) LLaMA\",\\n        \"E) Sora\"\\n      ],\\n      \"correct_answer\": \"B\",\\n      \"difficulty\": \"Medium\",\\n      \"explanation\": \"Stable Diffusion is a text-to-image artificial intelligence image generation system.\"\\n    },\\n    {\\n      \"question_number\": 5,\\n      \"question\": \"What is one of the potential concerns about the use of generative AI?\",\\n      \"options\": [\\n        \"A) Increased job security\",\\n        \"B) Improved data privacy\",\\n        \"C) Cybercrime and the use of deepfakes\",\\n        \"D) Enhanced data storage\",\\n        \"E) Faster internet speeds\"\\n      ],\\n      \"correct_answer\": \"C\",\\n      \"difficulty\": \"Medium\",\\n      \"explanation\": \"Concerns have been raised about the potential misuse of generative AI such as cybercrime and the use of deepfakes to deceive or manipulate people.\"\\n    }\\n  ]\\n}'"
      ]
     },
     "execution_count": 45,
     "metadata": {},
     "output_type": "execute_result"
    }
   ],
   "source": [
    "quiz = quiz.replace('```', '').strip()\n",
    "quiz = quiz.lstrip(\"json\\n\").strip()  \n",
    "quiz\n"
   ]
  },
  {
   "cell_type": "code",
   "execution_count": 46,
   "metadata": {},
   "outputs": [
    {
     "name": "stdout",
     "output_type": "stream",
     "text": [
      "<class 'dict'>\n"
     ]
    },
    {
     "data": {
      "text/plain": [
       "{'quizzes': [{'question_number': 1,\n",
       "   'question': 'What is the primary purpose of generative AI?',\n",
       "   'options': ['A) To analyze existing data',\n",
       "    'B) To create new data based on patterns learned from training data',\n",
       "    'C) To perform calculations',\n",
       "    'D) To store information',\n",
       "    'E) To predict future events'],\n",
       "   'correct_answer': 'B',\n",
       "   'difficulty': 'Easy',\n",
       "   'explanation': 'Generative AI systems learn the underlying patterns and structures of their training data, enabling them to create new data.'},\n",
       "  {'question_number': 2,\n",
       "   'question': 'Which of the following is an example of a generative AI model?',\n",
       "   'options': ['A) Google Search',\n",
       "    'B) ChatGPT',\n",
       "    'C) Excel',\n",
       "    'D) Photoshop',\n",
       "    'E) Microsoft Word'],\n",
       "   'correct_answer': 'B',\n",
       "   'difficulty': 'Easy',\n",
       "   'explanation': 'ChatGPT is a well-known example of a generative AI model that can produce text in response to specific prompts.'},\n",
       "  {'question_number': 3,\n",
       "   'question': 'What type of neural network has significantly contributed to the advancement of generative AI?',\n",
       "   'options': ['A) Convolutional Neural Networks',\n",
       "    'B) Recurrent Neural Networks',\n",
       "    'C) Transformer-based Deep Neural Networks',\n",
       "    'D) Feedforward Neural Networks',\n",
       "    'E) Autoencoders'],\n",
       "   'correct_answer': 'C',\n",
       "   'difficulty': 'Medium',\n",
       "   'explanation': 'Improvements in transformer-based deep neural networks have enabled an AI boom of generative AI systems in the early 2020s.'},\n",
       "  {'question_number': 4,\n",
       "   'question': 'Which of the following is a text-to-image AI generation system?',\n",
       "   'options': ['A) ChatGPT',\n",
       "    'B) Stable Diffusion',\n",
       "    'C) Copilot',\n",
       "    'D) LLaMA',\n",
       "    'E) Sora'],\n",
       "   'correct_answer': 'B',\n",
       "   'difficulty': 'Medium',\n",
       "   'explanation': 'Stable Diffusion is a text-to-image artificial intelligence image generation system.'},\n",
       "  {'question_number': 5,\n",
       "   'question': 'What is one of the potential concerns about the use of generative AI?',\n",
       "   'options': ['A) Increased job security',\n",
       "    'B) Improved data privacy',\n",
       "    'C) Cybercrime and the use of deepfakes',\n",
       "    'D) Enhanced data storage',\n",
       "    'E) Faster internet speeds'],\n",
       "   'correct_answer': 'C',\n",
       "   'difficulty': 'Medium',\n",
       "   'explanation': 'Concerns have been raised about the potential misuse of generative AI such as cybercrime and the use of deepfakes to deceive or manipulate people.'}]}"
      ]
     },
     "execution_count": 46,
     "metadata": {},
     "output_type": "execute_result"
    }
   ],
   "source": [
    "quiz_dict = json.loads(quiz)\n",
    "print(type(quiz_dict))\n",
    "quiz_dict"
   ]
  },
  {
   "cell_type": "code",
   "execution_count": 47,
   "metadata": {},
   "outputs": [],
   "source": [
    "quiz_data = []\n",
    "\n",
    "for value in quiz_dict['quizzes']:\n",
    "    mcq = value['question']\n",
    "    options = \" | \".join(value['options'])\n",
    "    correct = value['correct_answer']\n",
    "    \n",
    "    quiz_data.append({\n",
    "        \"MCQ\": mcq,\n",
    "        \"Choices\": options,\n",
    "        \"Correct\": correct\n",
    "    })"
   ]
  },
  {
   "cell_type": "code",
   "execution_count": 48,
   "metadata": {},
   "outputs": [
    {
     "data": {
      "text/plain": [
       "[{'MCQ': 'What is the primary purpose of generative AI?',\n",
       "  'Choices': 'A) To analyze existing data | B) To create new data based on patterns learned from training data | C) To perform calculations | D) To store information | E) To predict future events',\n",
       "  'Correct': 'B'},\n",
       " {'MCQ': 'Which of the following is an example of a generative AI model?',\n",
       "  'Choices': 'A) Google Search | B) ChatGPT | C) Excel | D) Photoshop | E) Microsoft Word',\n",
       "  'Correct': 'B'},\n",
       " {'MCQ': 'What type of neural network has significantly contributed to the advancement of generative AI?',\n",
       "  'Choices': 'A) Convolutional Neural Networks | B) Recurrent Neural Networks | C) Transformer-based Deep Neural Networks | D) Feedforward Neural Networks | E) Autoencoders',\n",
       "  'Correct': 'C'},\n",
       " {'MCQ': 'Which of the following is a text-to-image AI generation system?',\n",
       "  'Choices': 'A) ChatGPT | B) Stable Diffusion | C) Copilot | D) LLaMA | E) Sora',\n",
       "  'Correct': 'B'},\n",
       " {'MCQ': 'What is one of the potential concerns about the use of generative AI?',\n",
       "  'Choices': 'A) Increased job security | B) Improved data privacy | C) Cybercrime and the use of deepfakes | D) Enhanced data storage | E) Faster internet speeds',\n",
       "  'Correct': 'C'}]"
      ]
     },
     "execution_count": 48,
     "metadata": {},
     "output_type": "execute_result"
    }
   ],
   "source": [
    "quiz_data"
   ]
  },
  {
   "cell_type": "code",
   "execution_count": 49,
   "metadata": {},
   "outputs": [
    {
     "data": {
      "text/html": [
       "<div>\n",
       "<style scoped>\n",
       "    .dataframe tbody tr th:only-of-type {\n",
       "        vertical-align: middle;\n",
       "    }\n",
       "\n",
       "    .dataframe tbody tr th {\n",
       "        vertical-align: top;\n",
       "    }\n",
       "\n",
       "    .dataframe thead th {\n",
       "        text-align: right;\n",
       "    }\n",
       "</style>\n",
       "<table border=\"1\" class=\"dataframe\">\n",
       "  <thead>\n",
       "    <tr style=\"text-align: right;\">\n",
       "      <th></th>\n",
       "      <th>MCQ</th>\n",
       "      <th>Choices</th>\n",
       "      <th>Correct</th>\n",
       "    </tr>\n",
       "  </thead>\n",
       "  <tbody>\n",
       "    <tr>\n",
       "      <th>0</th>\n",
       "      <td>What is the primary purpose of generative AI?</td>\n",
       "      <td>A) To analyze existing data | B) To create new...</td>\n",
       "      <td>B</td>\n",
       "    </tr>\n",
       "    <tr>\n",
       "      <th>1</th>\n",
       "      <td>Which of the following is an example of a gene...</td>\n",
       "      <td>A) Google Search | B) ChatGPT | C) Excel | D) ...</td>\n",
       "      <td>B</td>\n",
       "    </tr>\n",
       "    <tr>\n",
       "      <th>2</th>\n",
       "      <td>What type of neural network has significantly ...</td>\n",
       "      <td>A) Convolutional Neural Networks | B) Recurren...</td>\n",
       "      <td>C</td>\n",
       "    </tr>\n",
       "    <tr>\n",
       "      <th>3</th>\n",
       "      <td>Which of the following is a text-to-image AI g...</td>\n",
       "      <td>A) ChatGPT | B) Stable Diffusion | C) Copilot ...</td>\n",
       "      <td>B</td>\n",
       "    </tr>\n",
       "    <tr>\n",
       "      <th>4</th>\n",
       "      <td>What is one of the potential concerns about th...</td>\n",
       "      <td>A) Increased job security | B) Improved data p...</td>\n",
       "      <td>C</td>\n",
       "    </tr>\n",
       "  </tbody>\n",
       "</table>\n",
       "</div>"
      ],
      "text/plain": [
       "                                                 MCQ  \\\n",
       "0      What is the primary purpose of generative AI?   \n",
       "1  Which of the following is an example of a gene...   \n",
       "2  What type of neural network has significantly ...   \n",
       "3  Which of the following is a text-to-image AI g...   \n",
       "4  What is one of the potential concerns about th...   \n",
       "\n",
       "                                             Choices Correct  \n",
       "0  A) To analyze existing data | B) To create new...       B  \n",
       "1  A) Google Search | B) ChatGPT | C) Excel | D) ...       B  \n",
       "2  A) Convolutional Neural Networks | B) Recurren...       C  \n",
       "3  A) ChatGPT | B) Stable Diffusion | C) Copilot ...       B  \n",
       "4  A) Increased job security | B) Improved data p...       C  "
      ]
     },
     "execution_count": 49,
     "metadata": {},
     "output_type": "execute_result"
    }
   ],
   "source": [
    "quiz_df = pd.DataFrame(quiz_data)\n",
    "quiz_df"
   ]
  },
  {
   "cell_type": "code",
   "execution_count": 50,
   "metadata": {},
   "outputs": [],
   "source": [
    "quiz_df.to_csv(\"quiz_data.csv\",index=False)"
   ]
  },
  {
   "cell_type": "code",
   "execution_count": 51,
   "metadata": {},
   "outputs": [
    {
     "data": {
      "text/plain": [
       "datetime.datetime(2024, 10, 21, 22, 21, 12, 964388)"
      ]
     },
     "execution_count": 51,
     "metadata": {},
     "output_type": "execute_result"
    }
   ],
   "source": [
    "from datetime import datetime\n",
    "\n",
    "datetime.now()"
   ]
  },
  {
   "cell_type": "code",
   "execution_count": 52,
   "metadata": {},
   "outputs": [
    {
     "data": {
      "text/plain": [
       "'21_10_2024_22_21_12'"
      ]
     },
     "execution_count": 52,
     "metadata": {},
     "output_type": "execute_result"
    }
   ],
   "source": [
    "datetime.now().strftime('%d_%m_%Y_%H_%M_%S')"
   ]
  },
  {
   "cell_type": "code",
   "execution_count": null,
   "metadata": {},
   "outputs": [],
   "source": []
  },
  {
   "cell_type": "code",
   "execution_count": null,
   "metadata": {},
   "outputs": [],
   "source": []
  },
  {
   "cell_type": "code",
   "execution_count": null,
   "metadata": {},
   "outputs": [],
   "source": []
  },
  {
   "cell_type": "code",
   "execution_count": null,
   "metadata": {},
   "outputs": [],
   "source": []
  },
  {
   "cell_type": "code",
   "execution_count": null,
   "metadata": {},
   "outputs": [],
   "source": []
  },
  {
   "cell_type": "code",
   "execution_count": null,
   "metadata": {},
   "outputs": [],
   "source": []
  },
  {
   "cell_type": "code",
   "execution_count": null,
   "metadata": {},
   "outputs": [],
   "source": []
  },
  {
   "cell_type": "code",
   "execution_count": null,
   "metadata": {},
   "outputs": [],
   "source": []
  },
  {
   "cell_type": "code",
   "execution_count": null,
   "metadata": {},
   "outputs": [],
   "source": []
  },
  {
   "cell_type": "code",
   "execution_count": null,
   "metadata": {},
   "outputs": [],
   "source": []
  },
  {
   "cell_type": "code",
   "execution_count": null,
   "metadata": {},
   "outputs": [],
   "source": []
  },
  {
   "cell_type": "code",
   "execution_count": null,
   "metadata": {},
   "outputs": [],
   "source": []
  },
  {
   "cell_type": "code",
   "execution_count": null,
   "metadata": {},
   "outputs": [],
   "source": []
  },
  {
   "cell_type": "code",
   "execution_count": null,
   "metadata": {},
   "outputs": [],
   "source": []
  },
  {
   "cell_type": "code",
   "execution_count": null,
   "metadata": {},
   "outputs": [],
   "source": []
  },
  {
   "cell_type": "code",
   "execution_count": null,
   "metadata": {},
   "outputs": [],
   "source": []
  }
 ],
 "metadata": {
  "kernelspec": {
   "display_name": "Python 3",
   "language": "python",
   "name": "python3"
  },
  "language_info": {
   "codemirror_mode": {
    "name": "ipython",
    "version": 3
   },
   "file_extension": ".py",
   "mimetype": "text/x-python",
   "name": "python",
   "nbconvert_exporter": "python",
   "pygments_lexer": "ipython3",
   "version": "3.12.4"
  }
 },
 "nbformat": 4,
 "nbformat_minor": 2
}
